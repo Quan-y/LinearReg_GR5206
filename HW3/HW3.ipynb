{
 "cells": [
  {
   "cell_type": "markdown",
   "metadata": {},
   "source": [
    "### Import package"
   ]
  },
  {
   "cell_type": "code",
   "execution_count": 223,
   "metadata": {},
   "outputs": [],
   "source": [
    "import pandas as pd\n",
    "import numpy as np\n",
    "import statsmodels.api as sm\n",
    "from statsmodels.formula.api import ols\n",
    "from sklearn.linear_model import LinearRegression\n",
    "from scipy.stats import f\n",
    "from scipy.stats import t\n",
    "# visualization\n",
    "import matplotlib.pyplot as plt"
   ]
  },
  {
   "cell_type": "markdown",
   "metadata": {},
   "source": [
    "# 2.23"
   ]
  },
  {
   "cell_type": "markdown",
   "metadata": {},
   "source": [
    "### Import data"
   ]
  },
  {
   "cell_type": "code",
   "execution_count": 37,
   "metadata": {
    "scrolled": true
   },
   "outputs": [
    {
     "data": {
      "text/html": [
       "<div>\n",
       "<style scoped>\n",
       "    .dataframe tbody tr th:only-of-type {\n",
       "        vertical-align: middle;\n",
       "    }\n",
       "\n",
       "    .dataframe tbody tr th {\n",
       "        vertical-align: top;\n",
       "    }\n",
       "\n",
       "    .dataframe thead th {\n",
       "        text-align: right;\n",
       "    }\n",
       "</style>\n",
       "<table border=\"1\" class=\"dataframe\">\n",
       "  <thead>\n",
       "    <tr style=\"text-align: right;\">\n",
       "      <th></th>\n",
       "      <th>GPA</th>\n",
       "      <th>ACT</th>\n",
       "    </tr>\n",
       "  </thead>\n",
       "  <tbody>\n",
       "    <tr>\n",
       "      <th>0</th>\n",
       "      <td>3.897</td>\n",
       "      <td>21</td>\n",
       "    </tr>\n",
       "    <tr>\n",
       "      <th>1</th>\n",
       "      <td>3.885</td>\n",
       "      <td>14</td>\n",
       "    </tr>\n",
       "    <tr>\n",
       "      <th>2</th>\n",
       "      <td>3.778</td>\n",
       "      <td>28</td>\n",
       "    </tr>\n",
       "  </tbody>\n",
       "</table>\n",
       "</div>"
      ],
      "text/plain": [
       "     GPA  ACT\n",
       "0  3.897   21\n",
       "1  3.885   14\n",
       "2  3.778   28"
      ]
     },
     "execution_count": 37,
     "metadata": {},
     "output_type": "execute_result"
    }
   ],
   "source": [
    "data = pd.read_table('CH01PR19.txt', header = None, sep = ' ').dropna(axis = 1)\n",
    "data.columns = ['GPA', 'ACT']\n",
    "data.head(3)"
   ]
  },
  {
   "cell_type": "markdown",
   "metadata": {},
   "source": [
    "### Calculate by myself"
   ]
  },
  {
   "cell_type": "code",
   "execution_count": 52,
   "metadata": {
    "scrolled": true
   },
   "outputs": [
    {
     "name": "stdout",
     "output_type": "stream",
     "text": [
      "slope is 0.0388, intercept is 2.114\n",
      "SS_reg: 3.5878, SS_residual: 45.8176\n",
      "MSS_reg: 3.5878, MSS_residual: 0.3883\n",
      "F statistics: 9.2402\n",
      "P value: 0.0029\n"
     ]
    }
   ],
   "source": [
    "# linear regression model\n",
    "lm0 = LinearRegression()\n",
    "lm0.fit(X = data['ACT'].values.reshape(-1,1), y = data['GPA'])\n",
    "y = data['GPA'].values\n",
    "y_hat = lm0.predict(data['ACT'].values.reshape(-1,1))\n",
    "y_mean = np.mean(y)\n",
    "# slope and intercept\n",
    "print('slope is {0}, intercept is {1}'.format(round(lm0.coef_[0],4), round(lm0.intercept_, 4)))\n",
    "# SS regression\n",
    "SS_reg = sum((y_hat - y_mean)**2)\n",
    "# SS residual\n",
    "SS_residual = sum((y - y_hat)**2)\n",
    "# SS total\n",
    "SS_total = SS_reg + SS_residual\n",
    "print('SS_reg: {0}, SS_residual: {1}'.format(round(SS_reg,4), round(SS_residual, 4)))\n",
    "# MSS\n",
    "n = 120\n",
    "MSS_reg = SS_reg/1\n",
    "MSS_residual = SS_residual/(n-2)\n",
    "print('MSS_reg: {0}, MSS_residual: {1}'.format(round(MSS_reg, 4), round(MSS_residual, 4)))\n",
    "# F-stat\n",
    "F = MSS_reg/MSS_residual\n",
    "print('F statistics: {0}'.format(round(F, 4)))\n",
    "# p-value\n",
    "p_value = 1 - f.cdf(F, 1, 118)\n",
    "print('P value: {0}'.format(round(p_value,4)))"
   ]
  },
  {
   "cell_type": "markdown",
   "metadata": {},
   "source": [
    "### Check result"
   ]
  },
  {
   "cell_type": "code",
   "execution_count": 53,
   "metadata": {
    "scrolled": true
   },
   "outputs": [
    {
     "data": {
      "text/html": [
       "<div>\n",
       "<style scoped>\n",
       "    .dataframe tbody tr th:only-of-type {\n",
       "        vertical-align: middle;\n",
       "    }\n",
       "\n",
       "    .dataframe tbody tr th {\n",
       "        vertical-align: top;\n",
       "    }\n",
       "\n",
       "    .dataframe thead th {\n",
       "        text-align: right;\n",
       "    }\n",
       "</style>\n",
       "<table border=\"1\" class=\"dataframe\">\n",
       "  <thead>\n",
       "    <tr style=\"text-align: right;\">\n",
       "      <th></th>\n",
       "      <th>sum_sq</th>\n",
       "      <th>df</th>\n",
       "      <th>F</th>\n",
       "      <th>PR(&gt;F)</th>\n",
       "    </tr>\n",
       "  </thead>\n",
       "  <tbody>\n",
       "    <tr>\n",
       "      <th>ACT</th>\n",
       "      <td>3.587846</td>\n",
       "      <td>1.0</td>\n",
       "      <td>9.240243</td>\n",
       "      <td>0.002917</td>\n",
       "    </tr>\n",
       "    <tr>\n",
       "      <th>Residual</th>\n",
       "      <td>45.817608</td>\n",
       "      <td>118.0</td>\n",
       "      <td>NaN</td>\n",
       "      <td>NaN</td>\n",
       "    </tr>\n",
       "  </tbody>\n",
       "</table>\n",
       "</div>"
      ],
      "text/plain": [
       "             sum_sq     df         F    PR(>F)\n",
       "ACT        3.587846    1.0  9.240243  0.002917\n",
       "Residual  45.817608  118.0       NaN       NaN"
      ]
     },
     "execution_count": 53,
     "metadata": {},
     "output_type": "execute_result"
    }
   ],
   "source": [
    "mod = ols('GPA~ACT', data=data).fit() \n",
    "aov_table = sm.stats.anova_lm(mod, typ = 2)\n",
    "aov_table"
   ]
  },
  {
   "cell_type": "markdown",
   "metadata": {},
   "source": [
    "# 2.26"
   ]
  },
  {
   "cell_type": "markdown",
   "metadata": {},
   "source": [
    "### import data"
   ]
  },
  {
   "cell_type": "code",
   "execution_count": 58,
   "metadata": {
    "scrolled": true
   },
   "outputs": [
    {
     "data": {
      "text/html": [
       "<div>\n",
       "<style scoped>\n",
       "    .dataframe tbody tr th:only-of-type {\n",
       "        vertical-align: middle;\n",
       "    }\n",
       "\n",
       "    .dataframe tbody tr th {\n",
       "        vertical-align: top;\n",
       "    }\n",
       "\n",
       "    .dataframe thead th {\n",
       "        text-align: right;\n",
       "    }\n",
       "</style>\n",
       "<table border=\"1\" class=\"dataframe\">\n",
       "  <thead>\n",
       "    <tr style=\"text-align: right;\">\n",
       "      <th></th>\n",
       "      <th>hardness</th>\n",
       "      <th>elapsed</th>\n",
       "    </tr>\n",
       "  </thead>\n",
       "  <tbody>\n",
       "    <tr>\n",
       "      <th>0</th>\n",
       "      <td>199.0</td>\n",
       "      <td>16.0</td>\n",
       "    </tr>\n",
       "    <tr>\n",
       "      <th>1</th>\n",
       "      <td>205.0</td>\n",
       "      <td>16.0</td>\n",
       "    </tr>\n",
       "    <tr>\n",
       "      <th>2</th>\n",
       "      <td>196.0</td>\n",
       "      <td>16.0</td>\n",
       "    </tr>\n",
       "  </tbody>\n",
       "</table>\n",
       "</div>"
      ],
      "text/plain": [
       "   hardness  elapsed\n",
       "0     199.0     16.0\n",
       "1     205.0     16.0\n",
       "2     196.0     16.0"
      ]
     },
     "execution_count": 58,
     "metadata": {},
     "output_type": "execute_result"
    }
   ],
   "source": [
    "data = pd.read_table('CH01PR22.txt', header = None, sep = ' ').dropna(axis = 1)\n",
    "# X: elapsed Y: hardness\n",
    "data.columns = ['hardness', 'elapsed']\n",
    "data.head(3)"
   ]
  },
  {
   "cell_type": "code",
   "execution_count": 68,
   "metadata": {},
   "outputs": [],
   "source": [
    "def anova(data, x, y):\n",
    "    # linear regression model\n",
    "    lm0 = LinearRegression()\n",
    "    lm0.fit(X = data[x].values.reshape(-1,1), y = data[y])\n",
    "    y = data[y].values\n",
    "    y_hat = lm0.predict(data[x].values.reshape(-1,1))\n",
    "    y_mean = np.mean(y)\n",
    "    # slope and intercept\n",
    "    print('slope is {0}, intercept is {1}'.format(round(lm0.coef_[0],4), round(lm0.intercept_, 4)))\n",
    "    # SS regression\n",
    "    SS_reg = sum((y_hat - y_mean)**2)\n",
    "    # SS residual\n",
    "    SS_residual = sum((y - y_hat)**2)\n",
    "    # SS total\n",
    "    SS_total = SS_reg + SS_residual\n",
    "    print('SS_reg: {0}, SS_residual: {1}'.format(round(SS_reg,4), round(SS_residual, 4)))\n",
    "    # MSS\n",
    "    n = len(data)\n",
    "    MSS_reg = SS_reg/1\n",
    "    MSS_residual = SS_residual/(n-2)\n",
    "    print('MSS_reg: {0}, MSS_residual: {1}'.format(round(MSS_reg, 4), round(MSS_residual, 4)))\n",
    "    # F-stat\n",
    "    F = MSS_reg/MSS_residual\n",
    "    print('F statistics: {0}'.format(round(F, 4)))\n",
    "    # p-value\n",
    "    p_value = 1 - f.cdf(F, 1, 118)\n",
    "    print('P value: {0}'.format(round(p_value,4)))\n",
    "    return {'slope': lm0.coef_[0], 'intercept': lm0.intercept_, \\\n",
    "            'SS_regression': SS_reg, 'SS_residual': SS_residual, \\\n",
    "            'SS_total': SS_total, 'y': y, 'y_hat': y_hat, \\\n",
    "            'y_mean': y_mean, 'MSS_regression': MSS_reg, \\\n",
    "            'MSS_residual': MSS_residual}"
   ]
  },
  {
   "cell_type": "code",
   "execution_count": 69,
   "metadata": {
    "scrolled": false
   },
   "outputs": [
    {
     "name": "stdout",
     "output_type": "stream",
     "text": [
      "slope is 2.0344, intercept is 168.6\n",
      "SS_reg: 5297.5125, SS_residual: 146.425\n",
      "MSS_reg: 5297.5125, MSS_residual: 10.4589\n",
      "F statistics: 506.5062\n",
      "P value: 0.0\n"
     ]
    }
   ],
   "source": [
    "result = anova(data, 'elapsed', 'hardness')"
   ]
  },
  {
   "cell_type": "code",
   "execution_count": 80,
   "metadata": {
    "scrolled": true
   },
   "outputs": [
    {
     "data": {
      "text/plain": [
       "Text(0.5,1,'Y - Y_hat against X')"
      ]
     },
     "execution_count": 80,
     "metadata": {},
     "output_type": "execute_result"
    },
    {
     "data": {
      "image/png": "[encoded data removed]",
      "text/plain": [
       "<Figure size 432x288 with 1 Axes>"
      ]
     },
     "metadata": {},
     "output_type": "display_data"
    }
   ],
   "source": [
    "plt.ylim(-20, 20)\n",
    "plt.scatter(data['elapsed'], result['y'] - result['y_hat'])\n",
    "plt.title('Y - Y_hat against X')"
   ]
  },
  {
   "cell_type": "code",
   "execution_count": 81,
   "metadata": {
    "scrolled": true
   },
   "outputs": [
    {
     "data": {
      "text/plain": [
       "<matplotlib.collections.PathCollection at 0xcf164e0>"
      ]
     },
     "execution_count": 81,
     "metadata": {},
     "output_type": "execute_result"
    },
    {
     "data": {
      "image/png": "[encoded data removed]",
      "text/plain": [
       "<Figure size 432x288 with 1 Axes>"
      ]
     },
     "metadata": {},
     "output_type": "display_data"
    }
   ],
   "source": [
    "plt.title('Y_hat - Y_mean against X')\n",
    "plt.scatter(data['elapsed'], result['y_hat'] - result['y_mean'])"
   ]
  },
  {
   "cell_type": "markdown",
   "metadata": {},
   "source": [
    "# 2.66"
   ]
  },
  {
   "cell_type": "code",
   "execution_count": 120,
   "metadata": {},
   "outputs": [
    {
     "name": "stdout",
     "output_type": "stream",
     "text": [
      "y: [ 31.74943652  31.06275428  64.11925164  66.49482808 140.13238469]\n",
      "slope is 6.3049, intercept is -8.9477\n",
      "upper: 88.19477186238319; lower: 20.00889321413991\n"
     ]
    }
   ],
   "source": [
    "# random error\n",
    "error = np.random.normal(0, 25, 5)\n",
    "# five x\n",
    "x = np.array([4, 8, 12, 16, 20])\n",
    "# five y\n",
    "y = np.zeros(5)\n",
    "for i, x_error in enumerate(zip(x, error)):\n",
    "    y[i] = 20 + 4*x_error[0] + x_error[1]\n",
    "print('y: {0}'.format(y))\n",
    "# run linear regression\n",
    "lm0 = LinearRegression()\n",
    "lm0.fit(X = x.reshape(-1,1), y = y)\n",
    "b1 = lm0.coef_[0]\n",
    "b0 = lm0.intercept_\n",
    "# slope and intercept\n",
    "print('slope is {0}, intercept is {1}'.format(round(b1, 4), round(b0, 4)))\n",
    "# interval\n",
    "yh = lm0.predict(10)[0]\n",
    "t_stat = t.ppf(1-0.025, 3)\n",
    "y_hat = lm0.predict(x.reshape(-1,1))\n",
    "mse = sum((y-y_hat)**2)/(5-2)\n",
    "s_yh = np.sqrt(mse*(1/5 + (10-np.mean(x))**2/sum((x-np.mean(x))**2)))\n",
    "upper = yh + t_stat*s_yh\n",
    "lower = yh - t_stat*s_yh\n",
    "print('upper: {0}; lower: {1}'.format(upper, lower))"
   ]
  },
  {
   "cell_type": "code",
   "execution_count": 137,
   "metadata": {},
   "outputs": [],
   "source": [
    "def run():\n",
    "    # random error\n",
    "    error = np.random.normal(0, 5, 5)\n",
    "    # five x\n",
    "    x = np.array([4, 8, 12, 16, 20])\n",
    "    # five y\n",
    "    y = np.zeros(5)\n",
    "    for i, x_error in enumerate(zip(x, error)):\n",
    "        y[i] = 20 + 4*x_error[0] + x_error[1]\n",
    "    # run linear regression\n",
    "    lm0 = LinearRegression()\n",
    "    lm0.fit(X = x.reshape(-1,1), y = y)\n",
    "    b1 = lm0.coef_[0]\n",
    "    b0 = lm0.intercept_\n",
    "    # interval\n",
    "    yh = lm0.predict(10)[0]\n",
    "    t_stat = t.ppf(1-0.025, 3)\n",
    "    y_hat = lm0.predict(x.reshape(-1,1))\n",
    "    mse = sum((y-y_hat)**2)/(5-2)\n",
    "    s_yh = np.sqrt(mse*(1/5 + (10-np.mean(x))**2/sum((x-np.mean(x))**2)))\n",
    "    upper = yh + t_stat*s_yh\n",
    "    lower = yh - t_stat*s_yh\n",
    "    return {'b0': b0, 'b1': b1, 'upper': upper, 'lower': lower, 'yh': yh}"
   ]
  },
  {
   "cell_type": "code",
   "execution_count": 138,
   "metadata": {
    "scrolled": true
   },
   "outputs": [
    {
     "name": "stdout",
     "output_type": "stream",
     "text": [
      "mean of b1: 3.9946658581117487, standard deviation of b1: 0.38955882009417536\n"
     ]
    }
   ],
   "source": [
    "# run 200 times\n",
    "n = 200\n",
    "b1 = np.zeros(200)\n",
    "for i in range(200):\n",
    "    result = run()\n",
    "    b1[i] = result['b1']\n",
    "print('mean of b1: {0}, standard deviation of b1: {1}'.format(np.mean(b1), np.std(b1)))"
   ]
  },
  {
   "cell_type": "code",
   "execution_count": 154,
   "metadata": {},
   "outputs": [
    {
     "name": "stdout",
     "output_type": "stream",
     "text": [
      "The proportion is: 0.96\n"
     ]
    }
   ],
   "source": [
    "# run 200 times\n",
    "n = 200\n",
    "E_yh = 60\n",
    "count = 0\n",
    "for i in range(200):\n",
    "    result = run()\n",
    "    upper = result['upper']\n",
    "    lower = result['lower']\n",
    "    if E_yh <= upper and E_yh >= lower:\n",
    "        count += 1\n",
    "print('The proportion is:', count/200)"
   ]
  },
  {
   "cell_type": "markdown",
   "metadata": {},
   "source": [
    "# 2.68"
   ]
  },
  {
   "cell_type": "code",
   "execution_count": 213,
   "metadata": {},
   "outputs": [],
   "source": [
    "with open('CH01PR20.txt') as f:\n",
    "    data = f.readlines()\n",
    "data = list(map(lambda x: list(filter(lambda x: x != '',x[:-1].split(' '))), data))\n",
    "data = list(map(lambda x: list(map(lambda y: int(y), x)), data))\n",
    "data = pd.DataFrame(data, columns = ['copiers', 'minutes'])"
   ]
  },
  {
   "cell_type": "code",
   "execution_count": 347,
   "metadata": {},
   "outputs": [],
   "source": [
    "# define our linear regression\n",
    "class LinearReg:\n",
    "    def __init__(self, data):\n",
    "        '''data: type: pandas dataframe'''\n",
    "        self.data = data\n",
    "        self.length = len(data)\n",
    "    def ols(self, x, y):\n",
    "        '''x: column name y: column name'''\n",
    "        X = np.matrix(np.vstack([np.ones(self.length), self.data[x].values]).T)\n",
    "        y = np.matrix(self.data[y].values).T\n",
    "        beta = np.linalg.inv(X.T*X)*X.T*y\n",
    "        return beta\n",
    "    def visual(self, x, y, step = 0.01):\n",
    "        para = self.ols(x, y)\n",
    "        X = self.data[x]\n",
    "        Y = self.data[y]\n",
    "        min_x, max_x = min(X), max(X)\n",
    "        # x is also matrix\n",
    "        func = lambda x: x*para\n",
    "        x_sim = np.arange(min_x, max_x, step)\n",
    "        xm = np.vstack([np.ones(len(x_sim)), x_sim]).T\n",
    "        y_sim = func(xm)\n",
    "        self.data.plot.scatter(x,y)\n",
    "        plt.plot(x_sim, y_sim)\n",
    "        plt.title('The Relationship Between {0} and {1}'.format(x, y))\n",
    "    def visual_ci(self, x, y, step = 0.01):\n",
    "        para = self.ols(x, y)\n",
    "        X = self.data[x]\n",
    "        Y = self.data[y]\n",
    "        min_x, max_x = min(X), max(X)\n",
    "        # x is also matrix\n",
    "        func = lambda x: x*para\n",
    "        x_sim = np.arange(min_x, max_x, step)\n",
    "        xm = np.vstack([np.ones(len(x_sim)), x_sim]).T\n",
    "        y_sim = func(xm)\n",
    "        y_hat = func(np.vstack([np.ones(len(X)), X]).T)\n",
    "        # confidence interval\n",
    "        w = np.sqrt(2*f.cdf(1 - 0.1, 2, 45-2))\n",
    "        mse = sum((Y.values - np.array(y_hat).reshape(1,-1)[0])**2)/(45-2)\n",
    "        upper = []\n",
    "        lower = []\n",
    "        for each, each_y_hat in zip(X.values, np.array(y_hat).reshape(1,-1)[0]):\n",
    "            s = np.sqrt(mse*(1/45 + (each - np.mean(X))**2/sum((X - np.mean(X))**2)))\n",
    "            lower.append(each_y_hat - w*s)\n",
    "            upper.append(each_y_hat + w*s)\n",
    "        # visualization\n",
    "        plt.figure(figsize = (12, 8))\n",
    "        plt.scatter(X,Y)\n",
    "        plt.plot(x_sim, y_sim)\n",
    "        plt.title('The Relationship Between {0} and {1}'.format(x, y))\n",
    "        plt.plot(X, lower)\n",
    "        plt.plot(X, upper)"
   ]
  },
  {
   "cell_type": "code",
   "execution_count": 348,
   "metadata": {
    "scrolled": true
   },
   "outputs": [
    {
     "data": {
      "image/png": "[encoded data removed]",
      "text/plain": [
       "<Figure size 432x288 with 1 Axes>"
      ]
     },
     "metadata": {},
     "output_type": "display_data"
    }
   ],
   "source": [
    "linear268 = LinearReg(data = data[(data['minutes'] > 1)&(data['minutes'] < 8)])\n",
    "linear268.visual(x = 'minutes', y = 'copiers')"
   ]
  },
  {
   "cell_type": "code",
   "execution_count": 349,
   "metadata": {},
   "outputs": [
    {
     "data": {
      "image/png": "[encoded data removed]",
      "text/plain": [
       "<Figure size 864x576 with 1 Axes>"
      ]
     },
     "metadata": {},
     "output_type": "display_data"
    }
   ],
   "source": [
    "linear268.visual_ci(x = 'minutes', y = 'copiers')"
   ]
  }
 ],
 "metadata": {
  "kernelspec": {
   "display_name": "Python 3",
   "language": "python",
   "name": "python3"
  },
  "language_info": {
   "codemirror_mode": {
    "name": "ipython",
    "version": 3
   },
   "file_extension": ".py",
   "mimetype": "text/x-python",
   "name": "python",
   "nbconvert_exporter": "python",
   "pygments_lexer": "ipython3",
   "version": "3.6.5"
  }
 },
 "nbformat": 4,
 "nbformat_minor": 2
}
