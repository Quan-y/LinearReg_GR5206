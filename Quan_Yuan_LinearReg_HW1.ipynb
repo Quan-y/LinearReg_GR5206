{
 "cells": [
  {
   "cell_type": "markdown",
   "metadata": {},
   "source": [
    "<center><font size = 6><b>Linear Regression Homework 1</b></font></center>\n",
    "**UNI:** qy2205  \n",
    "**Name:** Quan Yuan  \n",
    "**Email:** quan.yuan@columbia.edu"
   ]
  },
  {
   "cell_type": "markdown",
   "metadata": {},
   "source": [
    "## 1. Chapter 1 problem 19\n",
    "\n",
    "#### a. Obtain the least square estimate of $\\beta_0$ and $\\beta_1$, and state the estimated reg function"
   ]
  },
  {
   "cell_type": "markdown",
   "metadata": {},
   "source": [
    "**Solution:**  \n",
    "For any questions like:\n",
    "$$y_i = \\beta_1 + \\beta_2x_{2i}+...+\\beta_kx_{ki}+\\epsilon_i$$\n",
    "where $i \\in (1, 2, .., n)$  \n",
    "We set y = $\\left(\\begin{array}{c}\n",
    "         y_1 \\\\\n",
    "         \\vdots \\\\\n",
    "         y_n\n",
    "         \\end{array}\\right)$\n",
    "         $X = \\left(\\begin{array}{c}\n",
    "         1 & x_{21} & \\cdots & x_{k1}\\\\\n",
    "         1 & x_{22} & \\cdots & x_{k2}\\\\\n",
    "         \\vdots \\\\\n",
    "         1 & x_{2n} & \\cdots & x_{kn} \\\\\n",
    "         \\end{array}\\right)$\n",
    "         $\\beta = \\left(\\begin{array}{c}\n",
    "         \\beta_1 \\\\\n",
    "         \\vdots \\\\\n",
    "         \\beta_n\n",
    "         \\end{array}\\right)$\n",
    "         $\\beta = \\left(\\begin{array}{c}\n",
    "         \\beta_1 \\\\\n",
    "         \\vdots \\\\\n",
    "         \\beta_n\n",
    "         \\end{array}\\right)$\n",
    "         $\\epsilon = \\left(\\begin{array}{c}\n",
    "         \\epsilon_1 \\\\\n",
    "         \\vdots \\\\\n",
    "         \\epsilon_n\n",
    "         \\end{array}\\right)$"
   ]
  },
  {
   "cell_type": "markdown",
   "metadata": {},
   "source": [
    "Thus, the function can be written as:\n",
    "$$y = X\\beta + \\epsilon$$\n",
    "We define the error as $$S = \\sum_{i}^n \\epsilon_i^2 = \\epsilon_i^T \\epsilon_i = (y - X\\beta)^T(y-X\\beta) = y^Ty - y^TX\\beta - \\beta X^Ty + \\beta^T X^T X \\beta$$\n",
    "Then we calculate the first order derivatives of the error term, we get\n",
    "$$\\frac{\\partial S}{\\partial \\beta} = -2X^T y + 2X^T X \\beta$$\n",
    "Let the first order derivatives equals to zero, we can get\n",
    "$$\\beta = (X^TX)^{-1}X^T y$$\n",
    "And we also need to check the second order derivatives\n",
    "$$\\frac{\\partial^2 S}{\\partial \\beta^2} = 2X^T X$$\n",
    "which is a positive matrix."
   ]
  },
  {
   "cell_type": "markdown",
   "metadata": {},
   "source": [
    "The following is the `python` code for this problem"
   ]
  },
  {
   "cell_type": "code",
   "execution_count": 177,
   "metadata": {},
   "outputs": [
    {
     "data": {
      "text/html": [
       "<div>\n",
       "<style scoped>\n",
       "    .dataframe tbody tr th:only-of-type {\n",
       "        vertical-align: middle;\n",
       "    }\n",
       "\n",
       "    .dataframe tbody tr th {\n",
       "        vertical-align: top;\n",
       "    }\n",
       "\n",
       "    .dataframe thead th {\n",
       "        text-align: right;\n",
       "    }\n",
       "</style>\n",
       "<table border=\"1\" class=\"dataframe\">\n",
       "  <thead>\n",
       "    <tr style=\"text-align: right;\">\n",
       "      <th></th>\n",
       "      <th>GPA</th>\n",
       "      <th>ACT</th>\n",
       "    </tr>\n",
       "  </thead>\n",
       "  <tbody>\n",
       "    <tr>\n",
       "      <th>0</th>\n",
       "      <td>3.897</td>\n",
       "      <td>21</td>\n",
       "    </tr>\n",
       "    <tr>\n",
       "      <th>1</th>\n",
       "      <td>3.885</td>\n",
       "      <td>14</td>\n",
       "    </tr>\n",
       "    <tr>\n",
       "      <th>2</th>\n",
       "      <td>3.778</td>\n",
       "      <td>28</td>\n",
       "    </tr>\n",
       "  </tbody>\n",
       "</table>\n",
       "</div>"
      ],
      "text/plain": [
       "     GPA  ACT\n",
       "0  3.897   21\n",
       "1  3.885   14\n",
       "2  3.778   28"
      ]
     },
     "execution_count": 177,
     "metadata": {},
     "output_type": "execute_result"
    }
   ],
   "source": [
    "# import packages\n",
    "import pandas as pd\n",
    "import numpy as np\n",
    "from sklearn import linear_model\n",
    "import seaborn as sns\n",
    "import matplotlib.pyplot as plt\n",
    "sns.set(color_codes=True)\n",
    "%matplotlib inline\n",
    "params = {'legend.fontsize': 5,\n",
    "          'figure.figsize': (14, 6),\n",
    "          'axes.labelsize': 15,\n",
    "          'axes.titlesize': 18,\n",
    "         'xtick.labelsize': 12,\n",
    "         'ytick.labelsize': 12,\n",
    "         'font.family': 'Times New Roman'}\n",
    "plt.rcParams.update(params)\n",
    "\n",
    "# clean data\n",
    "CH01PR19 = pd.read_table('CH01PR19.txt', header = None, sep = ' ')[[1, 5]]\n",
    "CH01PR19.columns = ['GPA', 'ACT']\n",
    "CH01PR19.head(3)"
   ]
  },
  {
   "cell_type": "code",
   "execution_count": 310,
   "metadata": {},
   "outputs": [],
   "source": [
    "# define our linear regression\n",
    "class LinearReg:\n",
    "    def __init__(self, data):\n",
    "        '''data: type: pandas dataframe'''\n",
    "        self.data = data\n",
    "        self.length = len(data)\n",
    "    def ols(self, x, y):\n",
    "        '''\n",
    "        x: column name\n",
    "        y: column name\n",
    "        '''\n",
    "        X = np.matrix(np.vstack([np.ones(self.length), self.data[x].values]).T)\n",
    "        y = np.matrix(self.data[y].values).T\n",
    "        beta = np.linalg.inv(X.T*X)*X.T*y\n",
    "        return beta\n",
    "    def sklearn_ols(self, x, y):\n",
    "        X = np.matrix(self.data[x].values).T\n",
    "        y = np.matrix(self.data[y].values).T\n",
    "        # Create linear regression object\n",
    "        OLS = linear_model.LinearRegression()\n",
    "        # Train the model using the training sets\n",
    "        OLS.fit(X, y)\n",
    "        return np.vstack([OLS.intercept_, OLS.coef_])\n",
    "    def visual(self, x, y):\n",
    "        para = self.ols(x, y)\n",
    "        X = self.data[x]\n",
    "        Y = self.data[y]\n",
    "        min_x, max_x = min(X), max(X)\n",
    "        # x is also matrix\n",
    "        func = lambda x: x*para\n",
    "        x_sim = np.arange(min_x, max_x, 0.01)\n",
    "        xm = np.vstack([np.ones(len(x_sim)), x_sim]).T\n",
    "        y_sim = func(xm)\n",
    "        self.data.plot.scatter(x,y)\n",
    "        plt.plot(x_sim, y_sim)\n",
    "        plt.title('The Relationship Between ACT score and GPA')"
   ]
  },
  {
   "cell_type": "code",
   "execution_count": 312,
   "metadata": {},
   "outputs": [
    {
     "name": "stdout",
     "output_type": "stream",
     "text": [
      "OLS coded by myself \\beta_0 is 2.114, \\beta_1 is 0.039\n",
      "OLS by sklearn \\beta_0 is 2.114, \\beta_1 is 0.039\n",
      "The line is y = 0.039x + 2.114\n"
     ]
    }
   ],
   "source": [
    "# Run regression\n",
    "LReg19 = LinearReg(data = CH01PR19)\n",
    "beta_ols = LReg19.ols(x = 'ACT', y = 'GPA')\n",
    "beta_sklearn = LReg19.sklearn_ols(x = 'ACT', y = 'GPA')\n",
    "print('OLS coded by myself \\\\beta_0 is {0}, \\\\beta_1 is {1}'.format(round(float(beta_ols[0]), 3), round(float(beta_ols[1]), 3)))\n",
    "print('OLS by sklearn \\\\beta_0 is {0}, \\\\beta_1 is {1}'.format(round(float(beta_sklearn[0]), 3), round(float(beta_sklearn[1]), 3)))\n",
    "print('The line is y = {0}x + {1}'.format(round(float(beta_ols[1]), 3), round(float(beta_ols[0]), 3)))"
   ]
  },
  {
   "cell_type": "markdown",
   "metadata": {},
   "source": [
    "#### b. Plot the regression function and data"
   ]
  },
  {
   "cell_type": "code",
   "execution_count": 314,
   "metadata": {},
   "outputs": [
    {
     "data": {
      "image/png": "[encoded data removed]",
      "text/plain": [
       "<Figure size 1008x432 with 1 Axes>"
      ]
     },
     "metadata": {},
     "output_type": "display_data"
    }
   ],
   "source": [
    "# visualization\n",
    "LReg19.visual(x = 'ACT', y = 'GPA')"
   ]
  },
  {
   "cell_type": "markdown",
   "metadata": {},
   "source": [
    "#### c. point estimate"
   ]
  },
  {
   "cell_type": "code",
   "execution_count": 319,
   "metadata": {},
   "outputs": [
    {
     "name": "stdout",
     "output_type": "stream",
     "text": [
      "point estimate of the mean freshman GPA for student with ACT test score X = 30 is 3.248\n"
     ]
    }
   ],
   "source": [
    "meanx30 = round(CH01PR19[CH01PR19['ACT'] == 30]['GPA'].mean(), 3)\n",
    "print('point estimate of the mean freshman GPA for student with ACT test score X = 30 is {0}'.format(meanx30))"
   ]
  },
  {
   "cell_type": "markdown",
   "metadata": {},
   "source": [
    "#### d. point estimate"
   ]
  }
 ],
 "metadata": {
  "kernelspec": {
   "display_name": "Python 3",
   "language": "python",
   "name": "python3"
  },
  "language_info": {
   "codemirror_mode": {
    "name": "ipython",
    "version": 3
   },
   "file_extension": ".py",
   "mimetype": "text/x-python",
   "name": "python",
   "nbconvert_exporter": "python",
   "pygments_lexer": "ipython3",
   "version": "3.6.5"
  }
 },
 "nbformat": 4,
 "nbformat_minor": 2
}
