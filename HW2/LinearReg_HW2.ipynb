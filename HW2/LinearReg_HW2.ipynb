{
 "cells": [
  {
   "cell_type": "markdown",
   "metadata": {},
   "source": [
    "# 2.7"
   ]
  },
  {
   "cell_type": "code",
   "execution_count": 53,
   "metadata": {},
   "outputs": [],
   "source": [
    "import pandas as pd\n",
    "import numpy as np\n",
    "from sklearn.linear_model import LinearRegression\n",
    "from scipy.stats import t"
   ]
  },
  {
   "cell_type": "code",
   "execution_count": 18,
   "metadata": {},
   "outputs": [
    {
     "data": {
      "text/html": [
       "<div>\n",
       "<style scoped>\n",
       "    .dataframe tbody tr th:only-of-type {\n",
       "        vertical-align: middle;\n",
       "    }\n",
       "\n",
       "    .dataframe tbody tr th {\n",
       "        vertical-align: top;\n",
       "    }\n",
       "\n",
       "    .dataframe thead th {\n",
       "        text-align: right;\n",
       "    }\n",
       "</style>\n",
       "<table border=\"1\" class=\"dataframe\">\n",
       "  <thead>\n",
       "    <tr style=\"text-align: right;\">\n",
       "      <th></th>\n",
       "      <th>hardness</th>\n",
       "      <th>elapsed</th>\n",
       "    </tr>\n",
       "  </thead>\n",
       "  <tbody>\n",
       "    <tr>\n",
       "      <th>0</th>\n",
       "      <td>199.0</td>\n",
       "      <td>16.0</td>\n",
       "    </tr>\n",
       "    <tr>\n",
       "      <th>1</th>\n",
       "      <td>205.0</td>\n",
       "      <td>16.0</td>\n",
       "    </tr>\n",
       "    <tr>\n",
       "      <th>2</th>\n",
       "      <td>196.0</td>\n",
       "      <td>16.0</td>\n",
       "    </tr>\n",
       "    <tr>\n",
       "      <th>3</th>\n",
       "      <td>200.0</td>\n",
       "      <td>16.0</td>\n",
       "    </tr>\n",
       "    <tr>\n",
       "      <th>4</th>\n",
       "      <td>218.0</td>\n",
       "      <td>24.0</td>\n",
       "    </tr>\n",
       "  </tbody>\n",
       "</table>\n",
       "</div>"
      ],
      "text/plain": [
       "   hardness  elapsed\n",
       "0     199.0     16.0\n",
       "1     205.0     16.0\n",
       "2     196.0     16.0\n",
       "3     200.0     16.0\n",
       "4     218.0     24.0"
      ]
     },
     "execution_count": 18,
     "metadata": {},
     "output_type": "execute_result"
    }
   ],
   "source": [
    "# import data\n",
    "data = pd.read_table('CH01PR22.txt', header = None, sep = ' ')[[2, 5]]\n",
    "data.columns = ['hardness', 'elapsed']\n",
    "data.head()"
   ]
  },
  {
   "cell_type": "code",
   "execution_count": 61,
   "metadata": {},
   "outputs": [
    {
     "name": "stdout",
     "output_type": "stream",
     "text": [
      "slope is 2.034375\n",
      "slope is 168.60000000000002\n",
      "sigma is 3.234026680692135\n",
      "sqrt(sum(x_i - x_bar)^2) is 35.77708763999664\n",
      "t-statistic is 2.97684273411266\n"
     ]
    }
   ],
   "source": [
    "# linear regression model\n",
    "lm0 = LinearRegression()\n",
    "lm0.fit(X = data['elapsed'].values.reshape(-1,1), y = data['hardness'])\n",
    "# slope\n",
    "print('slope is', lm0.coef_[0])\n",
    "# intercept\n",
    "print('slope is', lm0.intercept_)\n",
    "# residual\n",
    "residual = lm0.predict(data['elapsed'].values.reshape(-1,1)) - data['hardness'].values\n",
    "# sigma\n",
    "sigma = np.sqrt(sum(residual*residual)/(len(data)-2))\n",
    "print('sigma is',sigma)\n",
    "# sqrt(sum(x_i - x_bar)^2)\n",
    "print('sqrt(sum(x_i - x_bar)^2) is', np.sqrt(sum((data['elapsed'] - np.mean(data['elapsed']))**2)))\n",
    "# calculate t-statistic\n",
    "print('t-statistic is', t.ppf(0.995, df = 14))"
   ]
  },
  {
   "cell_type": "markdown",
   "metadata": {},
   "source": [
    "# 2.63"
   ]
  },
  {
   "cell_type": "code",
   "execution_count": 65,
   "metadata": {},
   "outputs": [
    {
     "data": {
      "text/html": [
       "<div>\n",
       "<style scoped>\n",
       "    .dataframe tbody tr th:only-of-type {\n",
       "        vertical-align: middle;\n",
       "    }\n",
       "\n",
       "    .dataframe tbody tr th {\n",
       "        vertical-align: top;\n",
       "    }\n",
       "\n",
       "    .dataframe thead th {\n",
       "        text-align: right;\n",
       "    }\n",
       "</style>\n",
       "<table border=\"1\" class=\"dataframe\">\n",
       "  <thead>\n",
       "    <tr style=\"text-align: right;\">\n",
       "      <th></th>\n",
       "      <th>id</th>\n",
       "      <th>country</th>\n",
       "      <th>state</th>\n",
       "      <th>land_area</th>\n",
       "      <th>total_population</th>\n",
       "      <th>percent_of_population18_34</th>\n",
       "      <th>percent_of_population_above_65</th>\n",
       "      <th>number_of_active_physicians</th>\n",
       "      <th>number_of_hospital_beds</th>\n",
       "      <th>total_serious_crimes</th>\n",
       "      <th>percent_high_school_grad</th>\n",
       "      <th>precent_bachelor_deg</th>\n",
       "      <th>percent_below_poverty_level</th>\n",
       "      <th>percent_unemployment</th>\n",
       "      <th>per_capita_income</th>\n",
       "      <th>total_personal_income</th>\n",
       "      <th>geographic_region</th>\n",
       "    </tr>\n",
       "  </thead>\n",
       "  <tbody>\n",
       "    <tr>\n",
       "      <th>0</th>\n",
       "      <td>1</td>\n",
       "      <td>Los_Angeles</td>\n",
       "      <td>CA</td>\n",
       "      <td>4060</td>\n",
       "      <td>8863164</td>\n",
       "      <td>32.1</td>\n",
       "      <td>9.7</td>\n",
       "      <td>23677</td>\n",
       "      <td>27700</td>\n",
       "      <td>688936</td>\n",
       "      <td>70.0</td>\n",
       "      <td>22.3</td>\n",
       "      <td>11.6</td>\n",
       "      <td>8.0</td>\n",
       "      <td>20786</td>\n",
       "      <td>184230</td>\n",
       "      <td>4</td>\n",
       "    </tr>\n",
       "  </tbody>\n",
       "</table>\n",
       "</div>"
      ],
      "text/plain": [
       "   id      country state  land_area  total_population  \\\n",
       "0   1  Los_Angeles    CA       4060           8863164   \n",
       "\n",
       "   percent_of_population18_34  percent_of_population_above_65  \\\n",
       "0                        32.1                             9.7   \n",
       "\n",
       "   number_of_active_physicians  number_of_hospital_beds  total_serious_crimes  \\\n",
       "0                        23677                    27700                688936   \n",
       "\n",
       "   percent_high_school_grad  precent_bachelor_deg  \\\n",
       "0                      70.0                  22.3   \n",
       "\n",
       "   percent_below_poverty_level  percent_unemployment  per_capita_income  \\\n",
       "0                         11.6                   8.0              20786   \n",
       "\n",
       "   total_personal_income  geographic_region  \n",
       "0                 184230                  4  "
      ]
     },
     "execution_count": 65,
     "metadata": {},
     "output_type": "execute_result"
    }
   ],
   "source": [
    "CDI = pd.read_excel('CDI.xlsx')\n",
    "CDI.head(1)"
   ]
  },
  {
   "cell_type": "code",
   "execution_count": 72,
   "metadata": {},
   "outputs": [],
   "source": [
    "# classify with geographic region\n",
    "def cdi_ci(data, x, y):\n",
    "    '''x: string; y: string; data: dataframe'''\n",
    "    # linear regression model\n",
    "    lm0 = LinearRegression()\n",
    "    lm0.fit(X = data[x].values.reshape(-1,1), y = data[y])\n",
    "    # slope\n",
    "    slope = lm0.coef_[0]\n",
    "    # intercept\n",
    "    intercept = lm0.intercept_\n",
    "    # residual\n",
    "    residual = lm0.predict(data[x].values.reshape(-1,1)) - data[y].values\n",
    "    # sigma\n",
    "    sigma = np.sqrt(sum(residual*residual)/(len(data)-2))\n",
    "    # sqrt(sum(x_i - x_bar)^2)\n",
    "    s_error = np.sqrt(sum((data[x] - np.mean(data[x]))**2))\n",
    "    # confidence interval\n",
    "    blLow = slope - t.ppf(0.95, df = len(data)-2)*sigma/s_error\n",
    "    blHigh = slope - t.ppf(0.05, df = len(data)-2)*sigma/s_error\n",
    "    return blLow, blHigh"
   ]
  },
  {
   "cell_type": "code",
   "execution_count": 77,
   "metadata": {},
   "outputs": [
    {
     "name": "stdout",
     "output_type": "stream",
     "text": [
      "confidence interval when geographic region equals to 1\n",
      "(460.517703881817, 583.799961242046)\n",
      "confidence interval when geographic region equals to 2\n",
      "(193.48578916011115, 283.853007843554)\n",
      "confidence interval when geographic region equals to 3\n",
      "(285.707618101109, 375.5158331337243)\n",
      "confidence interval when geographic region equals to 4\n",
      "(364.75848918029646, 515.8729252228775)\n"
     ]
    }
   ],
   "source": [
    "for i in range(1, 5):\n",
    "    print('confidence interval when geographic region equals to {0}'.format(i))\n",
    "    print(cdi_ci(CDI[CDI['geographic_region'] == i], 'precent_bachelor_deg', 'per_capita_income'))"
   ]
  }
 ],
 "metadata": {
  "kernelspec": {
   "display_name": "Python 3",
   "language": "python",
   "name": "python3"
  },
  "language_info": {
   "codemirror_mode": {
    "name": "ipython",
    "version": 3
   },
   "file_extension": ".py",
   "mimetype": "text/x-python",
   "name": "python",
   "nbconvert_exporter": "python",
   "pygments_lexer": "ipython3",
   "version": "3.6.5"
  }
 },
 "nbformat": 4,
 "nbformat_minor": 2
}
