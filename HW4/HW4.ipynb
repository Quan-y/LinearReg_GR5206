{
 "cells": [
  {
   "cell_type": "markdown",
   "metadata": {},
   "source": [
    "### import package"
   ]
  },
  {
   "cell_type": "code",
   "execution_count": 18,
   "metadata": {},
   "outputs": [],
   "source": [
    "import pandas as pd\n",
    "import numpy as np\n",
    "from sklearn import linear_model\n",
    "import matplotlib.pyplot as plt\n",
    "import seaborn as sns\n",
    "%matplotlib inline"
   ]
  },
  {
   "cell_type": "code",
   "execution_count": 19,
   "metadata": {},
   "outputs": [],
   "source": [
    "# define our linear regression\n",
    "class LinearReg:\n",
    "    def __init__(self, data):\n",
    "        '''data: type: pandas dataframe'''\n",
    "        self.data = data\n",
    "        self.length = len(data)\n",
    "    def ols(self, x, y):\n",
    "        '''\n",
    "        x: column name\n",
    "        y: column name\n",
    "        '''\n",
    "        X = np.matrix(np.vstack([np.ones(self.length), self.data[x].values]).T)\n",
    "        y = np.matrix(self.data[y].values).T\n",
    "        beta = np.linalg.inv(X.T*X)*X.T*y\n",
    "        return beta\n",
    "    def sklearn_ols(self, x, y):\n",
    "        X = np.matrix(self.data[x].values).T\n",
    "        y = np.matrix(self.data[y].values).T\n",
    "        # Create linear regression object\n",
    "        OLS = linear_model.LinearRegression()\n",
    "        # Train the model using the training sets\n",
    "        OLS.fit(X, y)\n",
    "        return np.vstack([OLS.intercept_, OLS.coef_])\n",
    "    def visual(self, x, y, step = 0.01):\n",
    "        para = self.ols(x, y)\n",
    "        X = self.data[x]\n",
    "        Y = self.data[y]\n",
    "        min_x, max_x = min(X), max(X)\n",
    "        # x is also matrix\n",
    "        func = lambda x: x*para\n",
    "        x_sim = np.arange(min_x, max_x, step)\n",
    "        xm = np.vstack([np.ones(len(x_sim)), x_sim]).T\n",
    "        y_sim = func(xm)\n",
    "        self.data.plot.scatter(x,y)\n",
    "        plt.plot(x_sim, y_sim)\n",
    "        plt.title('The Relationship Between {0} and {1}'.format(x, y))"
   ]
  },
  {
   "cell_type": "markdown",
   "metadata": {},
   "source": [
    "### 3.3"
   ]
  },
  {
   "cell_type": "code",
   "execution_count": 20,
   "metadata": {
    "scrolled": true
   },
   "outputs": [
    {
     "name": "stdout",
     "output_type": "stream",
     "text": [
      "The mean of ACT is around 25 and the dataset don't have much outliers. The distriubtion of ACT score is almost like normal distribution\n"
     ]
    },
    {
     "data": {
      "image/png": "[encoded data removed]",
      "text/plain": [
       "<Figure size 432x288 with 1 Axes>"
      ]
     },
     "metadata": {},
     "output_type": "display_data"
    }
   ],
   "source": [
    "# data\n",
    "data = pd.read_table('CH01PR19.txt', sep = ' ', header = None).dropna(axis = 1)\n",
    "data.columns = ['GPA', 'ACT']\n",
    "# (a) boxplot\n",
    "sns.boxplot(data['ACT'], orient = 'v')\n",
    "print(\"The mean of ACT is around 25 and the dataset don't have much outliers. The distriubtion of ACT score is almost like normal distribution\")"
   ]
  },
  {
   "cell_type": "code",
   "execution_count": 54,
   "metadata": {},
   "outputs": [
    {
     "name": "stdout",
     "output_type": "stream",
     "text": [
      "The residual have equal variance\n"
     ]
    },
    {
     "data": {
      "image/png": "[encoded data removed]",
      "text/plain": [
       "<Figure size 432x288 with 1 Axes>"
      ]
     },
     "metadata": {},
     "output_type": "display_data"
    }
   ],
   "source": [
    "# (b) dot plot of the residuals\n",
    "LReg33 = LinearReg(data = data)\n",
    "beta_ols = LReg33.sklearn_ols(x = 'ACT', y = 'GPA')\n",
    "intercept = beta_ols[0][0]\n",
    "slope = beta_ols[1][0]\n",
    "f33 = lambda x: slope*x + intercept\n",
    "plt.scatter(data.index, (data['ACT'].map(f33) - data['GPA']))\n",
    "plt.title('Scatter plot for residual')\n",
    "print('The residual have equal variance')"
   ]
  },
  {
   "cell_type": "code",
   "execution_count": 56,
   "metadata": {},
   "outputs": [
    {
     "data": {
      "text/plain": [
       "<matplotlib.collections.PathCollection at 0xc37acc0>"
      ]
     },
     "execution_count": 56,
     "metadata": {},
     "output_type": "execute_result"
    },
    {
     "data": {
      "image/png": "[encoded data removed]",
      "text/plain": [
       "<Figure size 432x288 with 1 Axes>"
      ]
     },
     "metadata": {},
     "output_type": "display_data"
    }
   ],
   "source": [
    "# (3)\n",
    "plt.scatter(data['ACT'].map(f33), (data['ACT'].map(f33) - data['GPA']))"
   ]
  }
 ],
 "metadata": {
  "kernelspec": {
   "display_name": "Python 3",
   "language": "python",
   "name": "python3"
  },
  "language_info": {
   "codemirror_mode": {
    "name": "ipython",
    "version": 3
   },
   "file_extension": ".py",
   "mimetype": "text/x-python",
   "name": "python",
   "nbconvert_exporter": "python",
   "pygments_lexer": "ipython3",
   "version": "3.6.5"
  }
 },
 "nbformat": 4,
 "nbformat_minor": 2
}
