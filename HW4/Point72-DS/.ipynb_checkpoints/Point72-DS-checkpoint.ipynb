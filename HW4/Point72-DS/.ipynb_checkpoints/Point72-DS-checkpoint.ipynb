{
 "cells": [
  {
   "cell_type": "code",
   "execution_count": 245,
   "metadata": {},
   "outputs": [
    {
     "data": {
      "text/plain": [
       "24"
      ]
     },
     "execution_count": 245,
     "metadata": {},
     "output_type": "execute_result"
    }
   ],
   "source": [
    "sum(map(lambda x:x, [1,23]))"
   ]
  },
  {
   "cell_type": "code",
   "execution_count": null,
   "metadata": {},
   "outputs": [],
   "source": [
    "select Departments.DEPT_ID, Departments.DEPT_NAME from Departments\n",
    "left join Students on Departments.DEPT_ID = Students.DEPT_ID"
   ]
  },
  {
   "cell_type": "code",
   "execution_count": null,
   "metadata": {},
   "outputs": [],
   "source": [
    ", Students.STUDENT_NAME, Students.GENDER, Students.DEPT_ID"
   ]
  },
  {
   "cell_type": "code",
   "execution_count": null,
   "metadata": {},
   "outputs": [],
   "source": [
    "select * from Departments\n",
    "left join (select sum(Students.DEPT_ID), Students.DEPT_ID\n",
    "from students\n",
    "group by Students.DEPT_ID)\n",
    "on Departments.DEPT_ID = Students.DEPT_ID"
   ]
  },
  {
   "cell_type": "markdown",
   "metadata": {},
   "source": [
    "### (1) Quater Transformation\n",
    "#### 2014-03-02 -> 2014Q1"
   ]
  },
  {
   "cell_type": "code",
   "execution_count": 194,
   "metadata": {},
   "outputs": [],
   "source": [
    "import time"
   ]
  },
  {
   "cell_type": "markdown",
   "metadata": {},
   "source": [
    "#### method 1"
   ]
  },
  {
   "cell_type": "code",
   "execution_count": 195,
   "metadata": {},
   "outputs": [],
   "source": [
    "import datetime as dt\n",
    "import pandas as pd\n",
    "def quaterTrans1(date):\n",
    "    if type(date) == str:\n",
    "        dtime = dt.datetime.strptime(date, '%Y-%m-%d')\n",
    "    else:\n",
    "        return('Wrong input type')\n",
    "    q = pd.Timestamp(dtime).quarter\n",
    "    return('{0}Q{1}'.format(dtime.year, q))"
   ]
  },
  {
   "cell_type": "code",
   "execution_count": 80,
   "metadata": {},
   "outputs": [
    {
     "name": "stdout",
     "output_type": "stream",
     "text": [
      "Wall time: 0 ns\n"
     ]
    },
    {
     "data": {
      "text/plain": [
       "'2014Q2'"
      ]
     },
     "execution_count": 80,
     "metadata": {},
     "output_type": "execute_result"
    }
   ],
   "source": [
    "%time quaterTrans1('2014-6-02')"
   ]
  },
  {
   "cell_type": "markdown",
   "metadata": {},
   "source": [
    "#### method 2"
   ]
  },
  {
   "cell_type": "code",
   "execution_count": 47,
   "metadata": {},
   "outputs": [],
   "source": [
    "import math\n",
    "def quaterTrans2(date):\n",
    "    month = int(date[5:7])\n",
    "    q = math.ceil(month/3)\n",
    "    return('{0}Q{1}'.format(date[:4], q))"
   ]
  },
  {
   "cell_type": "code",
   "execution_count": 88,
   "metadata": {},
   "outputs": [
    {
     "name": "stdout",
     "output_type": "stream",
     "text": [
      "Wall time: 0 ns\n"
     ]
    },
    {
     "data": {
      "text/plain": [
       "'2014Q4'"
      ]
     },
     "execution_count": 88,
     "metadata": {},
     "output_type": "execute_result"
    }
   ],
   "source": [
    "%time quaterTrans2('2014-12-02')"
   ]
  },
  {
   "cell_type": "markdown",
   "metadata": {},
   "source": [
    "### (2) odd divider\n",
    "Given a number n, the task is to find the odd factor sum.  \n",
    "\n",
    "Examples :  \n",
    "Input : n = 30  \n",
    "Output : 24  \n",
    "Odd dividers sum 1 + 3 + 5 + 15 = 24  \n",
    "\n",
    "Input : 18  \n",
    "Output : 13  \n",
    "Odd dividers sum 1 + 3 + 9 = 13  "
   ]
  },
  {
   "cell_type": "markdown",
   "metadata": {},
   "source": [
    "#### method 1"
   ]
  },
  {
   "cell_type": "code",
   "execution_count": 168,
   "metadata": {},
   "outputs": [],
   "source": [
    "import math\n",
    "# Returns sum of all factors of n\n",
    "def sumofoddFactors(n):\n",
    "    # Traversing through all prime factors\n",
    "    res = 1\n",
    "    # ignore even factors \n",
    "    while n % 2 == 0: \n",
    "        n = n // 2\n",
    "    for i in range(3, int(math.sqrt(n) + 1)): \n",
    "        # While i divides n, print i and divide n\n",
    "        count = 0\n",
    "        curr_sum = 1\n",
    "        curr_term = 1\n",
    "        while n % i == 0: \n",
    "            count += 1\n",
    "            n = n // i \n",
    "            curr_term *= i \n",
    "            curr_sum += curr_term\n",
    "        res *= curr_sum\n",
    "    # This condition is to \n",
    "    # handle the case when \n",
    "    # n is a prime number. \n",
    "    if n >= 2: \n",
    "        res *= (1 + n)\n",
    "    return res "
   ]
  },
  {
   "cell_type": "code",
   "execution_count": null,
   "metadata": {},
   "outputs": [],
   "source": [
    "def oddDivider(n):\n",
    "    # special case when n = 1\n",
    "    if n == 1:\n",
    "        return(1)\n",
    "    # final result\n",
    "    result = 1\n",
    "    # help to reduce the complexity\n",
    "    while n%2 == 0:\n",
    "        n = n//2\n",
    "    for i in range(3, int(math.sqrt(n)+1)):\n",
    "        count = 0\n",
    "        curSum = 1\n",
    "        curTerm = 1\n",
    "        # if i is a divider\n",
    "        if n%i == 0:\n",
    "            count += 1\n",
    "            n = n//i\n",
    "            curTerm *= i\n",
    "            curSum += curTerm\n",
    "        result *= curSum\n",
    "    if n >= 2:\n",
    "        result *= (1+n)\n",
    "    return(result)"
   ]
  },
  {
   "cell_type": "markdown",
   "metadata": {},
   "source": [
    "#### method 2"
   ]
  },
  {
   "cell_type": "code",
   "execution_count": 244,
   "metadata": {},
   "outputs": [
    {
     "data": {
      "text/plain": [
       "6"
      ]
     },
     "execution_count": 244,
     "metadata": {},
     "output_type": "execute_result"
    }
   ],
   "source": [
    "oddDivider(5)"
   ]
  },
  {
   "cell_type": "code",
   "execution_count": 243,
   "metadata": {},
   "outputs": [],
   "source": [
    "import math\n",
    "def oddDivider(n):\n",
    "    if n <= 0:\n",
    "        return(False)\n",
    "    if n == 1:\n",
    "        return(1)\n",
    "    result = 0\n",
    "#     flag = 0\n",
    "    while n%2 == 0:\n",
    "        n = n/2\n",
    "    if n <= 2:\n",
    "        return(3)\n",
    "    for i in range(3, int(math.sqrt(n) + 1)):\n",
    "        if n%i == 0:\n",
    "            if i == n/i and i%2 != 0:\n",
    "                result += i\n",
    "            if i != n/i:\n",
    "                if i%2 != 0:\n",
    "                    result += i\n",
    "                if (n/i)%2 != 0:\n",
    "                    result += n/i\n",
    "    return(result + n + 1)"
   ]
  },
  {
   "cell_type": "markdown",
   "metadata": {},
   "source": [
    "### (2) Sum of all the factors of a number"
   ]
  },
  {
   "cell_type": "markdown",
   "metadata": {},
   "source": [
    "Input : n = 30  \n",
    "Output : 72  \n",
    "Dividers sum 1 + 2 + 3 + 5 + 6 + 10 + 15 + 30 = 72  \n",
    "\n",
    "Input :  n = 15  \n",
    "Output : 24  \n",
    "Dividers sum 1 + 3 + 5 + 15 = 24  "
   ]
  },
  {
   "cell_type": "code",
   "execution_count": 122,
   "metadata": {},
   "outputs": [],
   "source": [
    "import math\n",
    "def divSum(n):\n",
    "    result = 0\n",
    "    for i in range(2, int(math.sqrt(n) + 1)):\n",
    "        if n%i == 0:\n",
    "            if i == n/i:\n",
    "                result += i\n",
    "            else:\n",
    "                result += (i + n//i)\n",
    "    return(result + n + 1)"
   ]
  },
  {
   "cell_type": "code",
   "execution_count": 123,
   "metadata": {},
   "outputs": [
    {
     "data": {
      "text/plain": [
       "72"
      ]
     },
     "execution_count": 123,
     "metadata": {},
     "output_type": "execute_result"
    }
   ],
   "source": [
    "divSum(30)"
   ]
  },
  {
   "cell_type": "markdown",
   "metadata": {},
   "source": [
    "### (3) SQL left join"
   ]
  },
  {
   "cell_type": "markdown",
   "metadata": {},
   "source": [
    "### (4) Square Root"
   ]
  },
  {
   "cell_type": "code",
   "execution_count": 231,
   "metadata": {},
   "outputs": [],
   "source": [
    "# Newton Method for calculating sqrt\n",
    "def newtonsqrt(x, precision):\n",
    "    # function\n",
    "    x0 = x\n",
    "    fun = lambda y: y**2 - x0\n",
    "    # derivative\n",
    "    funDev = lambda y: 2*y\n",
    "    # update x\n",
    "    dist = fun(x)/funDev(x)\n",
    "    while dist >= precision:\n",
    "        print(dist)\n",
    "        dist = fun(x)/funDev(x)\n",
    "        x = x - dist\n",
    "    return(x)"
   ]
  },
  {
   "cell_type": "code",
   "execution_count": 240,
   "metadata": {},
   "outputs": [
    {
     "data": {
      "text/plain": [
       "2.23606797749979"
      ]
     },
     "execution_count": 240,
     "metadata": {},
     "output_type": "execute_result"
    }
   ],
   "source": [
    "import numpy as np\n",
    "np.sqrt(5)"
   ]
  },
  {
   "cell_type": "code",
   "execution_count": 239,
   "metadata": {
    "scrolled": true
   },
   "outputs": [
    {
     "name": "stdout",
     "output_type": "stream",
     "text": [
      "2.0\n",
      "2.0\n",
      "0.6666666666666666\n",
      "0.09523809523809547\n",
      "0.0020263424518745013\n"
     ]
    },
    {
     "data": {
      "text/plain": [
       "2.236067977499978"
      ]
     },
     "execution_count": 239,
     "metadata": {},
     "output_type": "execute_result"
    }
   ],
   "source": [
    "newtonsqrt(5, 0.001)"
   ]
  }
 ],
 "metadata": {
  "kernelspec": {
   "display_name": "Python 3",
   "language": "python",
   "name": "python3"
  },
  "language_info": {
   "codemirror_mode": {
    "name": "ipython",
    "version": 3
   },
   "file_extension": ".py",
   "mimetype": "text/x-python",
   "name": "python",
   "nbconvert_exporter": "python",
   "pygments_lexer": "ipython3",
   "version": "3.6.5"
  }
 },
 "nbformat": 4,
 "nbformat_minor": 2
}
