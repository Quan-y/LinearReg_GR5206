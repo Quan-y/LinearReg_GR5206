{
 "cells": [
  {
   "cell_type": "code",
   "execution_count": 39,
   "metadata": {},
   "outputs": [],
   "source": [
    "import pandas as pd\n",
    "import numpy as np\n",
    "import seaborn as sns\n",
    "sns.set(style=\"ticks\", color_codes=True)"
   ]
  },
  {
   "cell_type": "code",
   "execution_count": 40,
   "metadata": {},
   "outputs": [
    {
     "data": {
      "text/html": [
       "<div>\n",
       "<style scoped>\n",
       "    .dataframe tbody tr th:only-of-type {\n",
       "        vertical-align: middle;\n",
       "    }\n",
       "\n",
       "    .dataframe tbody tr th {\n",
       "        vertical-align: top;\n",
       "    }\n",
       "\n",
       "    .dataframe thead th {\n",
       "        text-align: right;\n",
       "    }\n",
       "</style>\n",
       "<table border=\"1\" class=\"dataframe\">\n",
       "  <thead>\n",
       "    <tr style=\"text-align: right;\">\n",
       "      <th></th>\n",
       "      <th>brand_like_degree</th>\n",
       "      <th>moisture_content</th>\n",
       "      <th>sweetness</th>\n",
       "    </tr>\n",
       "  </thead>\n",
       "  <tbody>\n",
       "    <tr>\n",
       "      <th>0</th>\n",
       "      <td>64.0</td>\n",
       "      <td>4.0</td>\n",
       "      <td>2.0</td>\n",
       "    </tr>\n",
       "    <tr>\n",
       "      <th>1</th>\n",
       "      <td>73.0</td>\n",
       "      <td>4.0</td>\n",
       "      <td>4.0</td>\n",
       "    </tr>\n",
       "    <tr>\n",
       "      <th>2</th>\n",
       "      <td>61.0</td>\n",
       "      <td>4.0</td>\n",
       "      <td>2.0</td>\n",
       "    </tr>\n",
       "    <tr>\n",
       "      <th>3</th>\n",
       "      <td>76.0</td>\n",
       "      <td>4.0</td>\n",
       "      <td>4.0</td>\n",
       "    </tr>\n",
       "    <tr>\n",
       "      <th>4</th>\n",
       "      <td>72.0</td>\n",
       "      <td>6.0</td>\n",
       "      <td>2.0</td>\n",
       "    </tr>\n",
       "  </tbody>\n",
       "</table>\n",
       "</div>"
      ],
      "text/plain": [
       "   brand_like_degree  moisture_content  sweetness\n",
       "0               64.0               4.0        2.0\n",
       "1               73.0               4.0        4.0\n",
       "2               61.0               4.0        2.0\n",
       "3               76.0               4.0        4.0\n",
       "4               72.0               6.0        2.0"
      ]
     },
     "execution_count": 40,
     "metadata": {},
     "output_type": "execute_result"
    }
   ],
   "source": [
    "with open('CH06PR05.txt') as f:\n",
    "    data = f.readlines()\n",
    "df = pd.DataFrame(list(map(lambda x: x.split(), data)))\n",
    "df.columns = ['brand_like_degree', 'moisture_content', 'sweetness']\n",
    "df = df.astype(float)\n",
    "df.head()"
   ]
  },
  {
   "cell_type": "markdown",
   "metadata": {},
   "source": [
    "## a"
   ]
  },
  {
   "cell_type": "code",
   "execution_count": 41,
   "metadata": {},
   "outputs": [
    {
     "data": {
      "text/plain": [
       "<seaborn.axisgrid.PairGrid at 0xb4206d8>"
      ]
     },
     "execution_count": 41,
     "metadata": {},
     "output_type": "execute_result"
    },
    {
     "data": {
      "image/png": "[encoded data removed]",
      "text/plain": [
       "<Figure size 540x540 with 12 Axes>"
      ]
     },
     "metadata": {},
     "output_type": "display_data"
    }
   ],
   "source": [
    "sns.pairplot(df)"
   ]
  },
  {
   "cell_type": "code",
   "execution_count": 43,
   "metadata": {
    "scrolled": false
   },
   "outputs": [
    {
     "data": {
      "text/html": [
       "<div>\n",
       "<style scoped>\n",
       "    .dataframe tbody tr th:only-of-type {\n",
       "        vertical-align: middle;\n",
       "    }\n",
       "\n",
       "    .dataframe tbody tr th {\n",
       "        vertical-align: top;\n",
       "    }\n",
       "\n",
       "    .dataframe thead th {\n",
       "        text-align: right;\n",
       "    }\n",
       "</style>\n",
       "<table border=\"1\" class=\"dataframe\">\n",
       "  <thead>\n",
       "    <tr style=\"text-align: right;\">\n",
       "      <th></th>\n",
       "      <th>brand_like_degree</th>\n",
       "      <th>moisture_content</th>\n",
       "      <th>sweetness</th>\n",
       "    </tr>\n",
       "  </thead>\n",
       "  <tbody>\n",
       "    <tr>\n",
       "      <th>brand_like_degree</th>\n",
       "      <td>1.000000</td>\n",
       "      <td>0.892393</td>\n",
       "      <td>0.394581</td>\n",
       "    </tr>\n",
       "    <tr>\n",
       "      <th>moisture_content</th>\n",
       "      <td>0.892393</td>\n",
       "      <td>1.000000</td>\n",
       "      <td>0.000000</td>\n",
       "    </tr>\n",
       "    <tr>\n",
       "      <th>sweetness</th>\n",
       "      <td>0.394581</td>\n",
       "      <td>0.000000</td>\n",
       "      <td>1.000000</td>\n",
       "    </tr>\n",
       "  </tbody>\n",
       "</table>\n",
       "</div>"
      ],
      "text/plain": [
       "                   brand_like_degree  moisture_content  sweetness\n",
       "brand_like_degree           1.000000          0.892393   0.394581\n",
       "moisture_content            0.892393          1.000000   0.000000\n",
       "sweetness                   0.394581          0.000000   1.000000"
      ]
     },
     "execution_count": 43,
     "metadata": {},
     "output_type": "execute_result"
    }
   ],
   "source": [
    "df.corr()"
   ]
  },
  {
   "cell_type": "markdown",
   "metadata": {},
   "source": [
    "## b"
   ]
  },
  {
   "cell_type": "code",
   "execution_count": 65,
   "metadata": {
    "collapsed": true
   },
   "outputs": [
    {
     "name": "stdout",
     "output_type": "stream",
     "text": [
      "                            OLS Regression Results                            \n",
      "==============================================================================\n",
      "Dep. Variable:      brand_like_degree   R-squared:                       0.952\n",
      "Model:                            OLS   Adj. R-squared:                  0.945\n",
      "Method:                 Least Squares   F-statistic:                     129.1\n",
      "Date:                Mon, 29 Oct 2018   Prob (F-statistic):           2.66e-09\n",
      "Time:                        21:54:25   Log-Likelihood:                -36.894\n",
      "No. Observations:                  16   AIC:                             79.79\n",
      "Df Residuals:                      13   BIC:                             82.11\n",
      "Df Model:                           2                                         \n",
      "Covariance Type:            nonrobust                                         \n",
      "====================================================================================\n",
      "                       coef    std err          t      P>|t|      [0.025      0.975]\n",
      "------------------------------------------------------------------------------------\n",
      "Intercept           37.6500      2.996     12.566      0.000      31.177      44.123\n",
      "moisture_content     4.4250      0.301     14.695      0.000       3.774       5.076\n",
      "sweetness            4.3750      0.673      6.498      0.000       2.920       5.830\n",
      "==============================================================================\n",
      "Omnibus:                        0.766   Durbin-Watson:                   2.313\n",
      "Prob(Omnibus):                  0.682   Jarque-Bera (JB):                0.647\n",
      "Skew:                           0.049   Prob(JB):                        0.724\n",
      "Kurtosis:                       2.020   Cond. No.                         35.9\n",
      "==============================================================================\n",
      "\n",
      "Warnings:\n",
      "[1] Standard Errors assume that the covariance matrix of the errors is correctly specified.\n",
      "[37.65   4.425  4.375]\n"
     ]
    },
    {
     "name": "stderr",
     "output_type": "stream",
     "text": [
      "G:\\Anaconda3\\lib\\site-packages\\scipy\\stats\\stats.py:1394: UserWarning: kurtosistest only valid for n>=20 ... continuing anyway, n=16\n",
      "  \"anyway, n=%i\" % int(n))\n"
     ]
    }
   ],
   "source": [
    "from statsmodels.formula.api import ols\n",
    "model = ols('brand_like_degree~moisture_content + sweetness', df).fit()\n",
    "print(model.summary())\n",
    "print(model._results.params)"
   ]
  },
  {
   "cell_type": "code",
   "execution_count": 96,
   "metadata": {
    "scrolled": true
   },
   "outputs": [
    {
     "name": "stdout",
     "output_type": "stream",
     "text": [
      "R square: 0.952059\n"
     ]
    }
   ],
   "source": [
    "print('R square:', round(model.rsquared, 6))"
   ]
  },
  {
   "cell_type": "code",
   "execution_count": 97,
   "metadata": {},
   "outputs": [
    {
     "data": {
      "text/plain": [
       "0.952059"
      ]
     },
     "execution_count": 97,
     "metadata": {},
     "output_type": "execute_result"
    }
   ],
   "source": [
    "SStotal = sum((df['brand_like_degree'] - df['brand_like_degree'].mean())**2)\n",
    "SSreg = sum((model.fittedvalues - df['brand_like_degree'].mean())**2)\n",
    "SSres = SStotal - SSreg\n",
    "R2 = SSreg/SStotal\n",
    "round(R2, 6)"
   ]
  },
  {
   "cell_type": "code",
   "execution_count": 188,
   "metadata": {},
   "outputs": [
    {
     "data": {
      "text/plain": [
       "array([[-30.71099408,   8.42659645],\n",
       "       [ 21.16853193,  -5.70111916]])"
      ]
     },
     "execution_count": 188,
     "metadata": {},
     "output_type": "execute_result"
    }
   ],
   "source": [
    "test = np.array([[1.732, 2.56], [6.431, 9.33]])\n",
    "np.linalg.inv(test)"
   ]
  },
  {
   "cell_type": "code",
   "execution_count": 171,
   "metadata": {},
   "outputs": [
    {
     "data": {
      "text/plain": [
       "(74.475, 80.075)"
      ]
     },
     "execution_count": 171,
     "metadata": {},
     "output_type": "execute_result"
    }
   ],
   "source": [
    "from scipy.stats import t\n",
    "MSE = SSres/(len(df)-3)\n",
    "xh = np.array([1, 5, 4])\n",
    "b = np.array([37.65, 4.425, 4.375])\n",
    "yh = np.dot(xh.T, b)\n",
    "t = t.ppf(0.995, len(df)-3)\n",
    "X = df[['moisture_content', 'sweetness']].values\n",
    "X = np.hstack([np.ones(len(df)).reshape(-1, 1), X])\n",
    "ciup = yh + t*np.sqrt(MSE)*np.sqrt(np.dot(np.dot(np.sqrt(xh.T), np.linalg.inv(np.dot(X.T, X))), xh))\n",
    "cilow = yh - t*np.sqrt(MSE)*np.sqrt(np.dot(np.dot(np.sqrt(xh.T), np.linalg.inv(np.dot(X.T, X))), xh))\n",
    "round(cilow,3), round(ciup,3)"
   ]
  },
  {
   "cell_type": "code",
   "execution_count": 177,
   "metadata": {},
   "outputs": [
    {
     "data": {
      "text/plain": [
       "(68.693, 85.857)"
      ]
     },
     "execution_count": 177,
     "metadata": {},
     "output_type": "execute_result"
    }
   ],
   "source": [
    "ciup = yh + t*np.sqrt(MSE)*np.sqrt(1 + np.dot(np.dot(np.sqrt(xh.T), np.linalg.inv(np.dot(X.T, X))), xh))\n",
    "cilow = yh - t*np.sqrt(MSE)*np.sqrt(1 + np.dot(np.dot(np.sqrt(xh.T), np.linalg.inv(np.dot(X.T, X))), xh))\n",
    "round(cilow,3), round(ciup,3)"
   ]
  }
 ],
 "metadata": {
  "kernelspec": {
   "display_name": "Python 3",
   "language": "python",
   "name": "python3"
  },
  "language_info": {
   "codemirror_mode": {
    "name": "ipython",
    "version": 3
   },
   "file_extension": ".py",
   "mimetype": "text/x-python",
   "name": "python",
   "nbconvert_exporter": "python",
   "pygments_lexer": "ipython3",
   "version": "3.6.5"
  }
 },
 "nbformat": 4,
 "nbformat_minor": 2
}
